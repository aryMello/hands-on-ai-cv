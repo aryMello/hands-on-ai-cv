{
  "cells": [
    {
      "cell_type": "markdown",
      "metadata": {
        "id": "LbZcI9ZXHl3a"
      },
      "source": [
        "# Deep Q-Learning for Lunar Landing"
      ]
    },
    {
      "cell_type": "markdown",
      "metadata": {
        "id": "E8yPRjteXgPb"
      },
      "source": [
        "## Part 0 - Installing the required packages and importing the libraries"
      ]
    },
    {
      "cell_type": "markdown",
      "metadata": {
        "id": "slEm5teGWjWU"
      },
      "source": [
        "### Installing Gymnasium"
      ]
    },
    {
      "cell_type": "code",
      "execution_count": 1,
      "metadata": {
        "id": "dbnq3XpoKa_7",
        "colab": {
          "base_uri": "https://localhost:8080/"
        },
        "outputId": "2a6a7bcd-a040-41e6-a2ba-eba89c578145"
      },
      "outputs": [
        {
          "output_type": "stream",
          "name": "stdout",
          "text": [
            "Collecting gymnasium\n",
            "  Downloading gymnasium-1.0.0-py3-none-any.whl.metadata (9.5 kB)\n",
            "Requirement already satisfied: numpy>=1.21.0 in /usr/local/lib/python3.10/dist-packages (from gymnasium) (1.26.4)\n",
            "Requirement already satisfied: cloudpickle>=1.2.0 in /usr/local/lib/python3.10/dist-packages (from gymnasium) (3.1.0)\n",
            "Requirement already satisfied: typing-extensions>=4.3.0 in /usr/local/lib/python3.10/dist-packages (from gymnasium) (4.12.2)\n",
            "Collecting farama-notifications>=0.0.1 (from gymnasium)\n",
            "  Downloading Farama_Notifications-0.0.4-py3-none-any.whl.metadata (558 bytes)\n",
            "Downloading gymnasium-1.0.0-py3-none-any.whl (958 kB)\n",
            "\u001b[2K   \u001b[90m━━━━━━━━━━━━━━━━━━━━━━━━━━━━━━━━━━━━━━━━\u001b[0m \u001b[32m958.1/958.1 kB\u001b[0m \u001b[31m9.5 MB/s\u001b[0m eta \u001b[36m0:00:00\u001b[0m\n",
            "\u001b[?25hDownloading Farama_Notifications-0.0.4-py3-none-any.whl (2.5 kB)\n",
            "Installing collected packages: farama-notifications, gymnasium\n",
            "Successfully installed farama-notifications-0.0.4 gymnasium-1.0.0\n",
            "Requirement already satisfied: gymnasium[accept-rom-license,atari] in /usr/local/lib/python3.10/dist-packages (1.0.0)\n",
            "\u001b[33mWARNING: gymnasium 1.0.0 does not provide the extra 'accept-rom-license'\u001b[0m\u001b[33m\n",
            "\u001b[0mRequirement already satisfied: numpy>=1.21.0 in /usr/local/lib/python3.10/dist-packages (from gymnasium[accept-rom-license,atari]) (1.26.4)\n",
            "Requirement already satisfied: cloudpickle>=1.2.0 in /usr/local/lib/python3.10/dist-packages (from gymnasium[accept-rom-license,atari]) (3.1.0)\n",
            "Requirement already satisfied: typing-extensions>=4.3.0 in /usr/local/lib/python3.10/dist-packages (from gymnasium[accept-rom-license,atari]) (4.12.2)\n",
            "Requirement already satisfied: farama-notifications>=0.0.1 in /usr/local/lib/python3.10/dist-packages (from gymnasium[accept-rom-license,atari]) (0.0.4)\n",
            "Collecting ale-py>=0.9 (from gymnasium[accept-rom-license,atari])\n",
            "  Downloading ale_py-0.10.1-cp310-cp310-manylinux_2_17_x86_64.manylinux2014_x86_64.whl.metadata (7.6 kB)\n",
            "Downloading ale_py-0.10.1-cp310-cp310-manylinux_2_17_x86_64.manylinux2014_x86_64.whl (2.1 MB)\n",
            "\u001b[2K   \u001b[90m━━━━━━━━━━━━━━━━━━━━━━━━━━━━━━━━━━━━━━━━\u001b[0m \u001b[32m2.1/2.1 MB\u001b[0m \u001b[31m20.6 MB/s\u001b[0m eta \u001b[36m0:00:00\u001b[0m\n",
            "\u001b[?25hInstalling collected packages: ale-py\n",
            "Successfully installed ale-py-0.10.1\n",
            "Reading package lists... Done\n",
            "Building dependency tree... Done\n",
            "Reading state information... Done\n",
            "The following additional packages will be installed:\n",
            "  swig4.0\n",
            "Suggested packages:\n",
            "  swig-doc swig-examples swig4.0-examples swig4.0-doc\n",
            "The following NEW packages will be installed:\n",
            "  swig swig4.0\n",
            "0 upgraded, 2 newly installed, 0 to remove and 49 not upgraded.\n",
            "Need to get 1,116 kB of archives.\n",
            "After this operation, 5,542 kB of additional disk space will be used.\n",
            "Get:1 http://archive.ubuntu.com/ubuntu jammy/universe amd64 swig4.0 amd64 4.0.2-1ubuntu1 [1,110 kB]\n",
            "Get:2 http://archive.ubuntu.com/ubuntu jammy/universe amd64 swig all 4.0.2-1ubuntu1 [5,632 B]\n",
            "Fetched 1,116 kB in 1s (950 kB/s)\n",
            "Selecting previously unselected package swig4.0.\n",
            "(Reading database ... 123634 files and directories currently installed.)\n",
            "Preparing to unpack .../swig4.0_4.0.2-1ubuntu1_amd64.deb ...\n",
            "Unpacking swig4.0 (4.0.2-1ubuntu1) ...\n",
            "Selecting previously unselected package swig.\n",
            "Preparing to unpack .../swig_4.0.2-1ubuntu1_all.deb ...\n",
            "Unpacking swig (4.0.2-1ubuntu1) ...\n",
            "Setting up swig4.0 (4.0.2-1ubuntu1) ...\n",
            "Setting up swig (4.0.2-1ubuntu1) ...\n",
            "Processing triggers for man-db (2.10.2-1) ...\n",
            "Requirement already satisfied: gymnasium[box2d] in /usr/local/lib/python3.10/dist-packages (1.0.0)\n",
            "Requirement already satisfied: numpy>=1.21.0 in /usr/local/lib/python3.10/dist-packages (from gymnasium[box2d]) (1.26.4)\n",
            "Requirement already satisfied: cloudpickle>=1.2.0 in /usr/local/lib/python3.10/dist-packages (from gymnasium[box2d]) (3.1.0)\n",
            "Requirement already satisfied: typing-extensions>=4.3.0 in /usr/local/lib/python3.10/dist-packages (from gymnasium[box2d]) (4.12.2)\n",
            "Requirement already satisfied: farama-notifications>=0.0.1 in /usr/local/lib/python3.10/dist-packages (from gymnasium[box2d]) (0.0.4)\n",
            "Collecting box2d-py==2.3.5 (from gymnasium[box2d])\n",
            "  Downloading box2d-py-2.3.5.tar.gz (374 kB)\n",
            "\u001b[2K     \u001b[90m━━━━━━━━━━━━━━━━━━━━━━━━━━━━━━━━━━━━━━━━\u001b[0m \u001b[32m374.4/374.4 kB\u001b[0m \u001b[31m4.8 MB/s\u001b[0m eta \u001b[36m0:00:00\u001b[0m\n",
            "\u001b[?25h  Preparing metadata (setup.py) ... \u001b[?25l\u001b[?25hdone\n",
            "Requirement already satisfied: pygame>=2.1.3 in /usr/local/lib/python3.10/dist-packages (from gymnasium[box2d]) (2.6.1)\n",
            "Collecting swig==4.* (from gymnasium[box2d])\n",
            "  Downloading swig-4.3.0-py2.py3-none-manylinux_2_5_x86_64.manylinux1_x86_64.whl.metadata (3.5 kB)\n",
            "Downloading swig-4.3.0-py2.py3-none-manylinux_2_5_x86_64.manylinux1_x86_64.whl (1.9 MB)\n",
            "\u001b[2K   \u001b[90m━━━━━━━━━━━━━━━━━━━━━━━━━━━━━━━━━━━━━━━━\u001b[0m \u001b[32m1.9/1.9 MB\u001b[0m \u001b[31m32.9 MB/s\u001b[0m eta \u001b[36m0:00:00\u001b[0m\n",
            "\u001b[?25hBuilding wheels for collected packages: box2d-py\n",
            "  Building wheel for box2d-py (setup.py) ... \u001b[?25l\u001b[?25hdone\n",
            "  Created wheel for box2d-py: filename=box2d_py-2.3.5-cp310-cp310-linux_x86_64.whl size=2349111 sha256=f2f83beb36f1b05a5de3ac878e8535dedddee83e94b64ad3977c54168a51e344\n",
            "  Stored in directory: /root/.cache/pip/wheels/db/8f/6a/eaaadf056fba10a98d986f6dce954e6201ba3126926fc5ad9e\n",
            "Successfully built box2d-py\n",
            "Installing collected packages: swig, box2d-py\n",
            "Successfully installed box2d-py-2.3.5 swig-4.3.0\n"
          ]
        }
      ],
      "source": [
        "!pip install gymnasium\n",
        "!pip install \"gymnasium[atari, accept-rom-license]\"\n",
        "!apt-get install -y swig\n",
        "!pip install gymnasium[box2d]"
      ]
    },
    {
      "cell_type": "markdown",
      "metadata": {
        "id": "brqiMN3UW9T9"
      },
      "source": [
        "### Importing the libraries"
      ]
    },
    {
      "cell_type": "code",
      "execution_count": 2,
      "metadata": {
        "id": "mZaKXP_aMl9O"
      },
      "outputs": [],
      "source": [
        "import os\n",
        "import random\n",
        "import numpy as np\n",
        "import torch\n",
        "import torch.nn as nn\n",
        "import torch.optim as optim\n",
        "import torch.nn.functional as F\n",
        "import torch.autograd as autograd\n",
        "from torch.autograd import Variable\n",
        "from collections import deque, namedtuple"
      ]
    },
    {
      "cell_type": "markdown",
      "metadata": {
        "id": "EzlDKXvkXzGI"
      },
      "source": [
        "## Part 1 - Building the AI"
      ]
    },
    {
      "cell_type": "markdown",
      "metadata": {
        "id": "UtG6Zc83YYy3"
      },
      "source": [
        "### Creating the architecture of the Neural Network"
      ]
    },
    {
      "cell_type": "code",
      "source": [
        "class Network(nn.Module):\n",
        "\n",
        "  def __init__(self, state_size, action_size, seed = 42):\n",
        "      super(Network, self).__init__()\n",
        "      self.seed = torch.manual_seed(seed)\n",
        "      self.fc1 = nn.Linear(state_size, 64)\n",
        "      self.fc2 = nn.Linear(64, 64)\n",
        "      self.fc3 = nn.Linear(64, action_size)\n",
        "\n",
        "  def forward(self, state):\n",
        "    x = self.fc1(state)\n",
        "    x = F.relu(x)\n",
        "    x = self.fc2(x)\n",
        "    x = F.relu(x)\n",
        "\n",
        "    return self.fc3(x)\n"
      ],
      "metadata": {
        "id": "Y9g3xEivZnSD"
      },
      "execution_count": 3,
      "outputs": []
    },
    {
      "cell_type": "markdown",
      "metadata": {
        "id": "UxVrBnFWZKb1"
      },
      "source": [
        "## Part 2 - Training the AI"
      ]
    },
    {
      "cell_type": "markdown",
      "metadata": {
        "id": "T364fz9qZb2j"
      },
      "source": [
        "### Setting up the environment"
      ]
    },
    {
      "cell_type": "code",
      "source": [
        "import gymnasium as gym\n",
        "env = gym.make('LunarLander-v3') # The Lunar Lander environment was upgraded to v3\n",
        "state_shape = env.observation_space.shape\n",
        "state_size = env.observation_space.shape[0]\n",
        "number_actions = env.action_space.n\n",
        "print('State shape: ', state_shape)\n",
        "print('State size: ', state_size)\n",
        "print('Number of actions: ', number_actions)"
      ],
      "metadata": {
        "id": "41sgnpCwtd5f",
        "colab": {
          "base_uri": "https://localhost:8080/"
        },
        "outputId": "f102d975-4f06-4f85-fda9-9f7386bc4859"
      },
      "execution_count": 4,
      "outputs": [
        {
          "output_type": "stream",
          "name": "stdout",
          "text": [
            "State shape:  (8,)\n",
            "State size:  8\n",
            "Number of actions:  4\n"
          ]
        }
      ]
    },
    {
      "cell_type": "markdown",
      "metadata": {
        "id": "c_dZmOIvZgj-"
      },
      "source": [
        "### Initializing the hyperparameters"
      ]
    },
    {
      "cell_type": "code",
      "source": [
        "learning_rate = 5e-4\n",
        "minibatch_size = 100\n",
        "discount_factor = 0.99\n",
        "replay_buffer_size = int(1e5)\n",
        "interpolation_parameter = 1e-3"
      ],
      "metadata": {
        "id": "XGo87N8wdQgb"
      },
      "execution_count": 5,
      "outputs": []
    },
    {
      "cell_type": "markdown",
      "metadata": {
        "id": "8hD_Vs-bYnip"
      },
      "source": [
        "### Implementing Experience Replay"
      ]
    },
    {
      "cell_type": "code",
      "source": [
        "class ReplayMemory(object):\n",
        "\n",
        "  def __init__(self, capacity):\n",
        "     self.device = torch.device(\"cuda:0\" if torch.cuda.is_available() else \"cpu\")\n",
        "     self.capacity = capacity\n",
        "     self.memory = []\n",
        "\n",
        "  def push(self, event):\n",
        "    self.memory.append(event)\n",
        "    if len(self.memory) > self.capacity:\n",
        "      del self.memory[0]\n",
        "\n",
        "  def sample(self, batch_size):\n",
        "    experiences = random.sample(self.memory, k = batch_size)\n",
        "    states = torch.from_numpy(np.vstack([e[0] for e in experiences if e is not None])).float().to(self.device)\n",
        "    actions = torch.from_numpy(np.vstack([e[1] for e in experiences if e is not None])).long().to(self.device)\n",
        "    rewards = torch.from_numpy(np.vstack([e[2] for e in experiences if e is not None])).float().to(self.device)\n",
        "    next_states = torch.from_numpy(np.vstack([e[3] for e in experiences if e is not None])).float().to(self.device)\n",
        "    dones = torch.from_numpy(np.vstack([e[4] for e in experiences if e is not None]).astype(np.uint8)).float().to(self.device)\n",
        "\n",
        "    return states, next_states, actions, rewards, dones\n",
        "\n"
      ],
      "metadata": {
        "id": "5A74_t0UfzSf"
      },
      "execution_count": 6,
      "outputs": []
    },
    {
      "cell_type": "markdown",
      "metadata": {
        "id": "JmEkbFbUY6Jt"
      },
      "source": [
        "### Implementing the DQN class"
      ]
    },
    {
      "cell_type": "code",
      "source": [
        "class Agent():\n",
        "\n",
        "  def __init__(self, state_size, action_size):\n",
        "    self.device = torch.device(\"cuda:0\" if torch.cuda.is_available() else \"cpu\")\n",
        "    self.state_size = state_size\n",
        "    self.action_size = action_size\n",
        "    self.local_qnetwork = Network(state_size, action_size).to(self.device)\n",
        "    self.target_qnetwork = Network(state_size, action_size).to(self.device)\n",
        "    self.optimizer = optim.Adam(self.local_qnetwork.parameters(), lr = learning_rate)\n",
        "    self.memory = ReplayMemory(replay_buffer_size)\n",
        "    self.t_step = 0\n",
        "\n",
        "  def step(self, state, action, reward, next_state, done):\n",
        "    self.memory.push((state, action, reward, next_state, done))\n",
        "    self.t_step = (self.t_step + 1) % 4\n",
        "    if self.t_step == 0:\n",
        "      if len(self.memory.memory) > minibatch_size:\n",
        "        experiences = self.memory.sample(100)\n",
        "        self.learn(experiences, discount_factor)\n",
        "\n",
        "  def act(self, state, epsilon = 0.):\n",
        "    state = torch.from_numpy(state).float().unsqueeze(0).to(self.device)\n",
        "    self.local_qnetwork.eval()\n",
        "    with torch.no_grad():\n",
        "      action_values = self.local_qnetwork(state)\n",
        "    self.local_qnetwork.train()\n",
        "    if random.random() > epsilon:\n",
        "      return np.argmax(action_values.cpu().data.numpy())\n",
        "    else:\n",
        "      return random.choice(np.arange(self.action_size))\n",
        "\n",
        "  def learn(self, experiences, discount_factor):\n",
        "    states, next_states, actions, rewards, dones = experiences\n",
        "    next_q_targets = self.target_qnetwork(next_states).detach().max(1)[0].unsqueeze(1)\n",
        "    q_targets = rewards + discount_factor * next_q_targets * (1 - dones)\n",
        "    q_expected = self.local_qnetwork(states).gather(1, actions)\n",
        "    loss = F.mse_loss(q_expected, q_targets)\n",
        "    self.optimizer.zero_grad()\n",
        "    loss.backward()\n",
        "    self.optimizer.step()\n",
        "    self.soft_update(self.local_qnetwork, self.target_qnetwork, interpolation_parameter)\n",
        "\n",
        "  def soft_update(self, local_model, target_model, interpolation_parameter):\n",
        "    for target_param, local_param in zip(target_model.parameters(), local_model.parameters()):\n",
        "      target_param.data.copy_(interpolation_parameter * local_param.data + (1.0 - interpolation_parameter) * target_param.data)"
      ],
      "metadata": {
        "id": "adjQP10RjrIM"
      },
      "execution_count": 7,
      "outputs": []
    },
    {
      "cell_type": "markdown",
      "metadata": {
        "id": "o1tZElccZmf6"
      },
      "source": [
        "### Initializing the DQN agent"
      ]
    },
    {
      "cell_type": "code",
      "source": [
        "agent = Agent(state_size, number_actions)"
      ],
      "metadata": {
        "id": "7e4ZLnuklZ5v"
      },
      "execution_count": 8,
      "outputs": []
    },
    {
      "cell_type": "markdown",
      "metadata": {
        "id": "E8v0PtUfaVQp"
      },
      "source": [
        "### Training the DQN agent"
      ]
    },
    {
      "cell_type": "code",
      "source": [
        "number_episodes = 2000\n",
        "max_number_timesteps = 1000\n",
        "epsilon_starting_value = 1.0\n",
        "epsilon_ending_value = 0.01\n",
        "epsilon_decay_value = 0.995\n",
        "epsilon = epsilon_starting_value\n",
        "scores_100_episodes = deque(maxlen = 100)\n",
        "\n",
        "for episode in range(1, number_episodes + 1):\n",
        "  state, _ = env.reset()\n",
        "  score = 0\n",
        "  for t in range(max_number_timesteps):\n",
        "    action = agent.act(state, epsilon)\n",
        "    next_state, reward, done, _, _ = env.step(action)\n",
        "    agent.step(state, action, reward, next_state, done)\n",
        "    state = next_state\n",
        "    score += reward\n",
        "    if done:\n",
        "      break\n",
        "  scores_100_episodes.append(score)\n",
        "  epsilon = max(epsilon_ending_value, epsilon_decay_value * epsilon)\n",
        "  print('\\rEpisode {}\\tAverage Score: {:.2f}'.format(episode, np.mean(scores_100_episodes)), end = \"\")\n",
        "  if episode % 100 == 0:\n",
        "      print('\\rEpisode {}\\tAverage Score: {:.2f}'.format(episode, np.mean(scores_100_episodes)))\n",
        "  if np.mean(scores_100_episodes) >= 200.0:\n",
        "      print('\\nEnviroment solved in {:d} episodes!\\tAverage Score: {:.2f}'.format(episode - 100, np.mean(scores_100_episodes)))\n",
        "      torch.save(agent.local_qnetwork.state_dict(), 'chekpoint.pth')\n",
        "      break\n"
      ],
      "metadata": {
        "colab": {
          "base_uri": "https://localhost:8080/"
        },
        "id": "zN63u4fvv3kN",
        "outputId": "3a60c7ef-dcc7-4868-d7dc-986d75857aa1"
      },
      "execution_count": 13,
      "outputs": [
        {
          "output_type": "stream",
          "name": "stdout",
          "text": [
            "Episode 100\tAverage Score: -107.91\n",
            "Episode 200\tAverage Score: -17.77\n",
            "Episode 300\tAverage Score: 124.49\n",
            "Episode 400\tAverage Score: 192.77\n",
            "Episode 407\tAverage Score: 201.16\n",
            "Enviroment solved in 307 episodes!\tAverage Score: 201.16\n"
          ]
        }
      ]
    },
    {
      "cell_type": "markdown",
      "metadata": {
        "id": "O8CNwdOTcCoP"
      },
      "source": [
        "## Part 3 - Visualizing the results"
      ]
    },
    {
      "cell_type": "code",
      "execution_count": 14,
      "metadata": {
        "id": "cb9nVvU2Okhk",
        "colab": {
          "base_uri": "https://localhost:8080/",
          "height": 458
        },
        "outputId": "6833ed99-39e0-486d-d305-5ee7dec0cf1b"
      },
      "outputs": [
        {
          "output_type": "stream",
          "name": "stderr",
          "text": [
            "WARNING:imageio_ffmpeg:IMAGEIO FFMPEG_WRITER WARNING: input image is not divisible by macro_block_size=16, resizing from (600, 400) to (608, 400) to ensure video compatibility with most codecs and players. To prevent resizing, make your input image divisible by the macro_block_size or set the macro_block_size to 1 (risking incompatibility).\n"
          ]
        },
        {
          "output_type": "display_data",
          "data": {
            "text/plain": [
              "<IPython.core.display.HTML object>"
            ],
            "text/html": [
              "<video alt=\"test\" autoplay\n",
              "                loop controls style=\"height: 400px;\">\n",
              "                <source src=\"data:video/mp4;base64,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\" type=\"video/mp4\" />\n",
              "             </video>"
            ]
          },
          "metadata": {}
        }
      ],
      "source": [
        "import glob\n",
        "import io\n",
        "import base64\n",
        "import imageio\n",
        "from IPython.display import HTML, display\n",
        "\n",
        "def show_video_of_model(agent, env_name):\n",
        "    env = gym.make(env_name, render_mode='rgb_array')\n",
        "    state, _ = env.reset()\n",
        "    done = False\n",
        "    frames = []\n",
        "    while not done:\n",
        "        frame = env.render()\n",
        "        frames.append(frame)\n",
        "        action = agent.act(state)\n",
        "        state, reward, done, _, _ = env.step(action.item())\n",
        "    env.close()\n",
        "    imageio.mimsave('video.mp4', frames, fps=30)\n",
        "\n",
        "show_video_of_model(agent, 'LunarLander-v3')\n",
        "\n",
        "def show_video():\n",
        "    mp4list = glob.glob('*.mp4')\n",
        "    if len(mp4list) > 0:\n",
        "        mp4 = mp4list[0]\n",
        "        video = io.open(mp4, 'r+b').read()\n",
        "        encoded = base64.b64encode(video)\n",
        "        display(HTML(data='''<video alt=\"test\" autoplay\n",
        "                loop controls style=\"height: 400px;\">\n",
        "                <source src=\"data:video/mp4;base64,{0}\" type=\"video/mp4\" />\n",
        "             </video>'''.format(encoded.decode('ascii'))))\n",
        "    else:\n",
        "        print(\"Could not find video\")\n",
        "\n",
        "show_video()"
      ]
    }
  ],
  "metadata": {
    "colab": {
      "provenance": []
    },
    "kernelspec": {
      "display_name": "Python 3",
      "name": "python3"
    },
    "language_info": {
      "name": "python"
    }
  },
  "nbformat": 4,
  "nbformat_minor": 0
}